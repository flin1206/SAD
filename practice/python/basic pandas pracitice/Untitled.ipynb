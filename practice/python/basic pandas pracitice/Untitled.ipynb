{
 "cells": [
  {
   "cell_type": "code",
   "execution_count": 1,
   "id": "e28c095a-08b5-4cae-8326-42b6be060eb4",
   "metadata": {},
   "outputs": [
    {
     "name": "stdout",
     "output_type": "stream",
     "text": [
      "     年度     年齡層  卷別  報名人數  到考人數  通過人數\n",
      "0   111    0~6歲  A卷    13    10     1\n",
      "1   111    0~6歲  B卷     0     0     0\n",
      "2   111    0~6歲  C卷     0     0     0\n",
      "3   111  13~15歲  A卷  1563  1118   814\n",
      "4   111  13~15歲  B卷   179   147    48\n",
      "5   111  13~15歲  C卷     6     1     0\n",
      "6   111  16~18歲  A卷   457   302   268\n",
      "7   111  16~18歲  B卷   243   160    75\n",
      "8   111  16~18歲  C卷    18    13     2\n",
      "9   111  19~22歲  A卷   185   134   129\n",
      "10  111  19~22歲  B卷   376   294   189\n",
      "11  111  19~22歲  C卷    35    29     8\n",
      "12  111  23~30歲  A卷   287   190   179\n",
      "13  111  23~30歲  B卷  1361   878   520\n",
      "14  111  23~30歲  C卷    76    55    14\n",
      "15  111  31~40歲  A卷   464   319   311\n",
      "16  111  31~40歲  B卷  2454  1586  1106\n",
      "17  111  31~40歲  C卷   155   113    39\n",
      "18  111  41~50歲  A卷   492   345   332\n",
      "19  111  41~50歲  B卷  3564  2518  1969\n",
      "20  111  41~50歲  C卷   335   254    67\n",
      "21  111  51~60歲  A卷   215   151   144\n",
      "22  111  51~60歲  B卷  1666  1233   981\n",
      "23  111  51~60歲  C卷   295   234    75\n",
      "24  111  61~70歲  A卷    64    50    47\n",
      "25  111  61~70歲  B卷   264   211   162\n",
      "26  111  61~70歲  C卷    73    58    11\n",
      "27  111   7~12歲  A卷  4495  3195  1526\n",
      "28  111   7~12歲  B卷    85    65    15\n",
      "29  111   7~12歲  C卷     6     3     0\n",
      "30  111   71歲以上  A卷    18    14    12\n",
      "31  111   71歲以上  B卷    32    27    11\n",
      "32  111   71歲以上  C卷    11     9     0\n"
     ]
    }
   ],
   "source": [
    "# 印出數據\n",
    "import pandas as pd\n",
    "\n",
    "# 讀取 CSV 檔案，並轉換為 DataFrame 物件\n",
    "df = pd.read_csv('rawdata.csv')\n",
    "# 使用 to_string() 方法將 DataFrame 資料以文字輸出\n",
    "print(df.to_string())\n",
    "# 使用 to_csv() 方法將 DataFrame 資料以 CSV 格式輸出\n",
    "df.to_csv('output.csv', index=False)"
   ]
  },
  {
   "cell_type": "code",
   "execution_count": 2,
   "id": "861d2644-0b53-4ea3-80e7-8e71c486bbd0",
   "metadata": {},
   "outputs": [
    {
     "name": "stdout",
     "output_type": "stream",
     "text": [
      "A卷報名人數: 8253\n",
      "B卷報名人數: 10224\n",
      "C卷報名人數: 1010\n"
     ]
    }
   ],
   "source": [
    "#印出A,B,C卷別分別有多少報名人數\n",
    "\n",
    "a_signUp = df[df['卷別'] == 'A卷']['報名人數'].sum()\n",
    "b_signUp = df[df['卷別'] == 'B卷']['報名人數'].sum()\n",
    "c_signUp = df[df['卷別'] == 'C卷']['報名人數'].sum()\n",
    "\n",
    "print('A卷報名人數:', str(a_signUp))\n",
    "print('B卷報名人數:', str(b_signUp))\n",
    "print('C卷報名人數:', str(c_signUp))\n"
   ]
  },
  {
   "cell_type": "code",
   "execution_count": 3,
   "id": "cceee6e4-c589-4ae7-a6d9-7f9e646d6b4b",
   "metadata": {},
   "outputs": [
    {
     "name": "stdout",
     "output_type": "stream",
     "text": [
      "31-40歲總到考人數與通過人數的比值:  1.385989010989011\n"
     ]
    }
   ],
   "source": [
    "#印出31-40歲總到考人數與通過人數的比值\n",
    "\n",
    "ratio = df[df['年齡層'] == '31~40歲']['到考人數'].sum() / df[df['年齡層'] == '31~40歲']['通過人數'].sum()\n",
    "print('31-40歲總到考人數與通過人數的比值: ', str(ratio))"
   ]
  },
  {
   "cell_type": "code",
   "execution_count": 4,
   "id": "7da07736-df30-443f-a236-b863d237431e",
   "metadata": {},
   "outputs": [
    {
     "name": "stdout",
     "output_type": "stream",
     "text": [
      "    卷別  報名人數\n",
      "3   A卷  1563\n",
      "4   B卷   179\n",
      "6   A卷   457\n",
      "7   B卷   243\n",
      "9   A卷   185\n",
      "10  B卷   376\n",
      "12  A卷   287\n",
      "13  B卷  1361\n",
      "15  A卷   464\n",
      "16  B卷  2454\n",
      "17  C卷   155\n",
      "18  A卷   492\n",
      "19  B卷  3564\n",
      "20  C卷   335\n",
      "21  A卷   215\n",
      "22  B卷  1666\n",
      "23  C卷   295\n",
      "25  B卷   264\n",
      "27  A卷  4495\n"
     ]
    }
   ],
   "source": [
    "#印出所有報名人數大於100的卷別及該年報名人數\n",
    "\n",
    "selected_data = df[df[\"報名人數\"] > 100][[\"卷別\", \"報名人數\"]]\n",
    "\n",
    "# 印出選取的資料\n",
    "print(selected_data)"
   ]
  },
  {
   "cell_type": "code",
   "execution_count": 5,
   "id": "9ee8fc5e-7143-48c2-a67c-5d3f6a9d8a90",
   "metadata": {},
   "outputs": [
    {
     "name": "stdout",
     "output_type": "stream",
     "text": [
      "       年齡層  卷別  報名人數\n",
      "27   7~12歲  A卷  4495\n",
      "19  41~50歲  B卷  3564\n",
      "16  31~40歲  B卷  2454\n",
      "22  51~60歲  B卷  1666\n",
      "3   13~15歲  A卷  1563\n",
      "13  23~30歲  B卷  1361\n",
      "18  41~50歲  A卷   492\n",
      "15  31~40歲  A卷   464\n",
      "6   16~18歲  A卷   457\n",
      "10  19~22歲  B卷   376\n",
      "20  41~50歲  C卷   335\n",
      "23  51~60歲  C卷   295\n",
      "12  23~30歲  A卷   287\n",
      "25  61~70歲  B卷   264\n",
      "7   16~18歲  B卷   243\n",
      "21  51~60歲  A卷   215\n",
      "9   19~22歲  A卷   185\n",
      "4   13~15歲  B卷   179\n",
      "17  31~40歲  C卷   155\n",
      "28   7~12歲  B卷    85\n",
      "14  23~30歲  C卷    76\n",
      "26  61~70歲  C卷    73\n",
      "24  61~70歲  A卷    64\n",
      "11  19~22歲  C卷    35\n",
      "31   71歲以上  B卷    32\n",
      "30   71歲以上  A卷    18\n",
      "8   16~18歲  C卷    18\n",
      "0     0~6歲  A卷    13\n",
      "32   71歲以上  C卷    11\n",
      "29   7~12歲  C卷     6\n",
      "5   13~15歲  C卷     6\n",
      "1     0~6歲  B卷     0\n",
      "2     0~6歲  C卷     0\n"
     ]
    }
   ],
   "source": [
    "#根據報名人數進行排序，印出對應年齡層, 卷別, 報名人數\n",
    "\n",
    "# 以報名人數為依據進行排序\n",
    "df_sorted = df.sort_values('報名人數', ascending=False)\n",
    "\n",
    "# 印出對應年齡層及卷別\n",
    "print(df_sorted[['年齡層', '卷別', '報名人數']])"
   ]
  },
  {
   "cell_type": "code",
   "execution_count": 6,
   "id": "4eab70d3-902e-4653-a388-868c6b4673c1",
   "metadata": {},
   "outputs": [
    {
     "name": "stdout",
     "output_type": "stream",
     "text": [
      "通過率最高的年齡層及卷別: \n",
      "年齡層      31~40歲\n",
      "卷別           A卷\n",
      "通過率    0.974922\n",
      "Name: 15, dtype: object\n"
     ]
    }
   ],
   "source": [
    "#找出通過率最高的年齡及卷別\n",
    "\n",
    "# 计算通過率\n",
    "df['通過率'] = df['通過人數'] / df['到考人數']\n",
    "\n",
    "# 按通過率排序，從大到小\n",
    "df_sorted = df.sort_values('通過率', ascending=False)\n",
    "\n",
    "# 取出第一筆資料，即通過率最高的年齡及卷別\n",
    "highest_pass_rate = df_sorted.iloc[0][['年齡層', '卷別', '通過率']]\n",
    "print(\"通過率最高的年齡層及卷別: \")\n",
    "print(highest_pass_rate)"
   ]
  },
  {
   "cell_type": "code",
   "execution_count": 7,
   "id": "0f5d29ba-b9e2-46ad-bd53-4c27d8fb34a5",
   "metadata": {},
   "outputs": [
    {
     "name": "stdout",
     "output_type": "stream",
     "text": [
      "報名人數最少的卷別是：B卷，對應的年齡層是：0~6歲\n"
     ]
    }
   ],
   "source": [
    "#哪一個卷別的報名人數最少？是哪一個年齡層？\n",
    "\n",
    "# 將資料按卷別和年齡層分組，並計算報名人數的總和\n",
    "grouped = df.groupby(['卷別', '年齡層'])['報名人數'].sum()\n",
    "\n",
    "# 找到報名人數最少的卷別和年齡層\n",
    "min_value = grouped.min()\n",
    "min_group = grouped[grouped == min_value].index[0]\n",
    "\n",
    "# 輸出結果\n",
    "print(f\"報名人數最少的卷別是：{min_group[0]}，對應的年齡層是：{min_group[1]}\")"
   ]
  },
  {
   "cell_type": "code",
   "execution_count": 8,
   "id": "ec77f15a",
   "metadata": {},
   "outputs": [
    {
     "name": "stdout",
     "output_type": "stream",
     "text": [
      "通過率最高的組：\n",
      "年齡層     卷別\n",
      "31~40歲  A卷    0.974922\n",
      "Name: 通過率, dtype: float64\n"
     ]
    }
   ],
   "source": [
    "#不同年齡層和卷別的通過率有何差異？哪個年齡層和卷別的通過率最高？\n",
    "\n",
    "\n",
    "# 計算通過率\n",
    "df['通過率'] = df['通過人數'] / df['到考人數']\n",
    "\n",
    "# 按年齡層和卷別分組，計算平均通過率\n",
    "grouped = df.groupby(['年齡層', '卷別'])['通過率'].mean()\n",
    "\n",
    "# 按平均通過率降序排序，找到通過率最高的組\n",
    "highest_pass_rate = grouped.sort_values(ascending=False).head(1)\n",
    "\n",
    "# 輸出結果\n",
    "print('通過率最高的組：')\n",
    "print(highest_pass_rate)"
   ]
  },
  {
   "cell_type": "code",
   "execution_count": 9,
   "id": "c18f5618",
   "metadata": {},
   "outputs": [
    {
     "name": "stdout",
     "output_type": "stream",
     "text": [
      "           報名人數\n",
      "年齡層    卷別      \n",
      "0~6歲   A卷    13\n",
      "       B卷     0\n",
      "       C卷     0\n",
      "13~15歲 A卷  1563\n",
      "       B卷   179\n",
      "       C卷     6\n",
      "16~18歲 A卷   457\n",
      "       B卷   243\n",
      "       C卷    18\n",
      "19~22歲 A卷   185\n",
      "       B卷   376\n",
      "       C卷    35\n",
      "23~30歲 A卷   287\n",
      "       B卷  1361\n",
      "       C卷    76\n",
      "31~40歲 A卷   464\n",
      "       B卷  2454\n",
      "       C卷   155\n",
      "41~50歲 A卷   492\n",
      "       B卷  3564\n",
      "       C卷   335\n",
      "51~60歲 A卷   215\n",
      "       B卷  1666\n",
      "       C卷   295\n",
      "61~70歲 A卷    64\n",
      "       B卷   264\n",
      "       C卷    73\n",
      "71歲以上  A卷    18\n",
      "       B卷    32\n",
      "       C卷    11\n",
      "7~12歲  A卷  4495\n",
      "       B卷    85\n",
      "       C卷     6\n"
     ]
    }
   ],
   "source": [
    "#不同年齡層、卷別的報名人數分布\n",
    "\n",
    "# 依照年齡層和卷別進行分組，並計算報名人數\n",
    "grouped = df.groupby(['年齡層', '卷別'])['報名人數'].sum()\n",
    "\n",
    "# 將結果轉換為DataFrame格式\n",
    "result = pd.DataFrame(grouped)\n",
    "\n",
    "# 顯示結果\n",
    "print(result)\n"
   ]
  },
  {
   "cell_type": "code",
   "execution_count": 10,
   "id": "0323be9d",
   "metadata": {},
   "outputs": [
    {
     "name": "stdout",
     "output_type": "stream",
     "text": [
      "總報名人數最高的卷別為: B卷\n",
      "A卷佔總報名人數百分比: 33.33333333333333\n",
      "B卷佔總報名人數百分比: 33.33333333333333\n",
      "C卷佔總報名人數百分比: 33.33333333333333\n"
     ]
    }
   ],
   "source": [
    "#哪個卷別的總報名人數最高，並印出三種卷別所佔的總報名人數百分比\n",
    "\n",
    "enrollment_by_paper = df.groupby('卷別')['報名人數'].sum()\n",
    "\n",
    "paper_with_highest_enrollment = enrollment_by_paper.idxmax()\n",
    "\n",
    "enrollment_percentages = df['卷別'].value_counts(normalize=True) * 100\n",
    "\n",
    "print('總報名人數最高的卷別為:', paper_with_highest_enrollment)\n",
    "\n",
    "print('A卷佔總報名人數百分比:', enrollment_percentages['A卷'])\n",
    "print('B卷佔總報名人數百分比:', enrollment_percentages['B卷'])\n",
    "print('C卷佔總報名人數百分比:', enrollment_percentages['C卷'])"
   ]
  }
 ],
 "metadata": {
  "kernelspec": {
   "display_name": "Python 3",
   "language": "python",
   "name": "python3"
  },
  "language_info": {
   "codemirror_mode": {
    "name": "ipython",
    "version": 3
   },
   "file_extension": ".py",
   "mimetype": "text/x-python",
   "name": "python",
   "nbconvert_exporter": "python",
   "pygments_lexer": "ipython3",
   "version": "3.10.10"
  }
 },
 "nbformat": 4,
 "nbformat_minor": 5
}
